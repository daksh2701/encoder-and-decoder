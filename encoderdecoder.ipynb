{
  "nbformat": 4,
  "nbformat_minor": 0,
  "metadata": {
    "colab": {
      "provenance": [],
      "authorship_tag": "ABX9TyOZYNVt5fnYmTjyhaTynHzJ",
      "include_colab_link": true
    },
    "kernelspec": {
      "name": "python3",
      "display_name": "Python 3"
    },
    "language_info": {
      "name": "python"
    }
  },
  "cells": [
    {
      "cell_type": "markdown",
      "metadata": {
        "id": "view-in-github",
        "colab_type": "text"
      },
      "source": [
        "<a href=\"https://colab.research.google.com/github/daksh2701/encoder-and-decoder/blob/main/encoderdecoder.ipynb\" target=\"_parent\"><img src=\"https://colab.research.google.com/assets/colab-badge.svg\" alt=\"Open In Colab\"/></a>"
      ]
    },
    {
      "cell_type": "code",
      "execution_count": null,
      "metadata": {
        "id": "jK25vHo7MRmd"
      },
      "outputs": [],
      "source": [
        "alphabet=['a', 'b', 'c', 'd', 'e', 'f', 'g', 'h', 'i', 'j', 'k', 'l', 'm', 'n', 'o', 'p', 'q', 'r', 's', 't', 'u', 'v', 'w', 'x', 'y', 'z']\n",
        "def ceaser(original_text, shift_amount, encode_or_decode):\n",
        "    output_text = \"\"\n",
        "\n",
        "    if encode_or_decode == \"decode\":\n",
        "        shift_amount *= -1\n",
        "\n",
        "    for letter in original_text:\n",
        "        if letter not in alphabet:\n",
        "            output_text += letter\n",
        "        else:\n",
        "            shifted_position = alphabet.index(letter) + shift_amount\n",
        "            shifted_position %= len(alphabet)\n",
        "            output_text += alphabet[shifted_position]\n",
        "\n",
        "    print(f\"Here is the {encode_or_decode}d result: {output_text}\")\n",
        "\n",
        "should_continue = True\n",
        "while should_continue:\n",
        "    direction = input(\"Type 'encode' to encrypt and 'decode' to decrypt \\n\").lower()\n",
        "    text = input(\"Type your message:\\n\").lower()\n",
        "    shift = int(input(\"Type the shift number: \\n\"))\n",
        "\n",
        "    ceaser(original_text=text, shift_amount=shift, encode_or_decode=direction)\n",
        "\n",
        "    restart = input(\"Type 'yes' if you want to go again. Otherwise, Type 'no'\\n\").lower()\n",
        "    if restart == 'no':\n",
        "        should_continue = False\n",
        "        print(\"Goodbye\")\n",
        "\n",
        "\n",
        "\n",
        "# hello shift=2\n",
        "# def encrypt(original_text, shift_amount):\n",
        "#     cypher_text = \"\"\n",
        "#     for letter in original_text: #h\n",
        "#         shifted_position = alphabet.index(letter)  + shift_amount #7-> 9 -> j\n",
        "#         shifted_position %=len(alphabet)\n",
        "#         cypher_text += alphabet[shifted_position] #j\n",
        "#     print(f\"Here is the encoded result : {cypher_text}\")\n",
        "\n",
        "# encrypt(original_text=text, shift_amount = shift)\n",
        "\n",
        "# def decrypt(original_text, shift_amount):\n",
        "#     output_text = \"\"\n",
        "#     for letter in original_text: #h\n",
        "#         shifted_position = alphabet.index(letter)  - shift_amount #7-> 9 -> j\n",
        "#         shifted_position %=len(alphabet)\n",
        "#         output_text += alphabet[shifted_position] #j\n",
        "#     print(f\"Here is the decoded result : {output_text}\")\n",
        "\n",
        "# decrypt(original_text=text, shift_amount = shift)\n",
        "\n",
        "\n",
        ""
      ]
    }
  ]
}